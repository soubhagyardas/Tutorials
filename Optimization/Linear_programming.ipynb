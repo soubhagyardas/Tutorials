{
  "nbformat": 4,
  "nbformat_minor": 0,
  "metadata": {
    "colab": {
      "name": "Linear_programming.ipynb",
      "provenance": [],
      "collapsed_sections": [],
      "toc_visible": true,
      "authorship_tag": "ABX9TyNiGs8l4K3Kw5RthB7kNgrv",
      "include_colab_link": true
    },
    "kernelspec": {
      "name": "python3",
      "display_name": "Python 3"
    },
    "language_info": {
      "name": "python"
    }
  },
  "cells": [
    {
      "cell_type": "markdown",
      "metadata": {
        "id": "view-in-github",
        "colab_type": "text"
      },
      "source": [
        "<a href=\"https://colab.research.google.com/github/soubhagyardas/Tutorials/blob/main/Optimization/Linear_programming.ipynb\" target=\"_parent\"><img src=\"https://colab.research.google.com/assets/colab-badge.svg\" alt=\"Open In Colab\"/></a>"
      ]
    },
    {
      "cell_type": "markdown",
      "source": [
        "# Linear Programming"
      ],
      "metadata": {
        "id": "OiGx3K6M4Ok1"
      }
    },
    {
      "cell_type": "code",
      "source": [
        "!pip install pyomo"
      ],
      "metadata": {
        "colab": {
          "base_uri": "https://localhost:8080/"
        },
        "id": "cNk6AEzV5q8Q",
        "outputId": "f27efc3c-fe81-4970-f1d5-568ee622def5"
      },
      "execution_count": 1,
      "outputs": [
        {
          "output_type": "stream",
          "name": "stdout",
          "text": [
            "Looking in indexes: https://pypi.org/simple, https://us-python.pkg.dev/colab-wheels/public/simple/\n",
            "Collecting pyomo\n",
            "  Downloading Pyomo-6.4.2-cp37-cp37m-manylinux_2_12_x86_64.manylinux2010_x86_64.whl (9.7 MB)\n",
            "\u001b[K     |████████████████████████████████| 9.7 MB 3.7 MB/s \n",
            "\u001b[?25hCollecting ply\n",
            "  Downloading ply-3.11-py2.py3-none-any.whl (49 kB)\n",
            "\u001b[K     |████████████████████████████████| 49 kB 5.7 MB/s \n",
            "\u001b[?25hInstalling collected packages: ply, pyomo\n",
            "Successfully installed ply-3.11 pyomo-6.4.2\n"
          ]
        }
      ]
    },
    {
      "cell_type": "code",
      "source": [
        "# Installing the solver\n",
        "\n",
        "!apt-get install -y -qq glpk-utils"
      ],
      "metadata": {
        "colab": {
          "base_uri": "https://localhost:8080/"
        },
        "id": "7PTavqoU52ST",
        "outputId": "5027822f-2f29-45fd-aa4a-ec6ec9b028ce"
      },
      "execution_count": 2,
      "outputs": [
        {
          "output_type": "stream",
          "name": "stdout",
          "text": [
            "Selecting previously unselected package libsuitesparseconfig5:amd64.\n",
            "(Reading database ... 155676 files and directories currently installed.)\n",
            "Preparing to unpack .../libsuitesparseconfig5_1%3a5.1.2-2_amd64.deb ...\n",
            "Unpacking libsuitesparseconfig5:amd64 (1:5.1.2-2) ...\n",
            "Selecting previously unselected package libamd2:amd64.\n",
            "Preparing to unpack .../libamd2_1%3a5.1.2-2_amd64.deb ...\n",
            "Unpacking libamd2:amd64 (1:5.1.2-2) ...\n",
            "Selecting previously unselected package libcolamd2:amd64.\n",
            "Preparing to unpack .../libcolamd2_1%3a5.1.2-2_amd64.deb ...\n",
            "Unpacking libcolamd2:amd64 (1:5.1.2-2) ...\n",
            "Selecting previously unselected package libglpk40:amd64.\n",
            "Preparing to unpack .../libglpk40_4.65-1_amd64.deb ...\n",
            "Unpacking libglpk40:amd64 (4.65-1) ...\n",
            "Selecting previously unselected package glpk-utils.\n",
            "Preparing to unpack .../glpk-utils_4.65-1_amd64.deb ...\n",
            "Unpacking glpk-utils (4.65-1) ...\n",
            "Setting up libsuitesparseconfig5:amd64 (1:5.1.2-2) ...\n",
            "Setting up libcolamd2:amd64 (1:5.1.2-2) ...\n",
            "Setting up libamd2:amd64 (1:5.1.2-2) ...\n",
            "Setting up libglpk40:amd64 (4.65-1) ...\n",
            "Setting up glpk-utils (4.65-1) ...\n",
            "Processing triggers for libc-bin (2.27-3ubuntu1.5) ...\n",
            "Processing triggers for man-db (2.8.3-2ubuntu0.1) ...\n"
          ]
        }
      ]
    },
    {
      "cell_type": "markdown",
      "source": [
        "## Problem Formulation 1\n",
        "\n",
        "- Leather company manufactures 2 types of belts - Regular & Deluxe\n",
        "- Each type require 1 sq yd of leather. Each week 40 sq yd of leather is available.\n",
        "- Regular belt requires 1 hour of skilled labour and deluxe belt requires 2 hours. Each week 60 hour of skilled labour is available.\n",
        "- Regular contributes to $3 profit and Deluxe \\$4.\n",
        "- __Formulate an LP to maximize the profit__"
      ],
      "metadata": {
        "id": "SME2-7cB4VeF"
      }
    },
    {
      "cell_type": "markdown",
      "source": [
        "### Model Development - 1"
      ],
      "metadata": {
        "id": "oiCqTvA-5cOt"
      }
    },
    {
      "cell_type": "markdown",
      "source": [
        "- **Pyomo** - Pyomo is a Python-based, open-source optimization modeling language with a diverse set of optimization capabilities.\n",
        "- **glpk** - The GNU Linear Programming Kit is a software package intended for solving large-scale linear programming, mixed integer programming, and other related problems."
      ],
      "metadata": {
        "id": "Ap0IPX-E6brg"
      }
    },
    {
      "cell_type": "code",
      "execution_count": 3,
      "metadata": {
        "id": "20xlF_V1zpT5"
      },
      "outputs": [],
      "source": [
        "import pyomo.environ as pyo\n",
        "from pyomo.opt import SolverFactory"
      ]
    },
    {
      "cell_type": "code",
      "source": [
        "# Defining the model\n",
        "model = pyo.ConcreteModel()\n",
        "\n",
        "# Defining decision varialbles - Type of variable = Non-negative real\n",
        "\n",
        "model.x1 = pyo.Var(within = pyo.NonNegativeReals)\n",
        "x1 = model.x1\n",
        "model.x2 = pyo.Var(within = pyo.NonNegativeReals)\n",
        "x2 = model.x2\n",
        "\n",
        "# Defining Objective Function\n",
        "model.Obj = pyo.Objective(expr = 4*x1 + 3*x2, sense = pyo.maximize) # sense - Indicates if the objective function is maximized or minimized\n",
        "\n",
        "# Defining Constraints\n",
        "\n",
        "model.Const1 = pyo.Constraint(expr = x1+x2<=40)\n",
        "model.Const2 = pyo.Constraint(expr = 2*x1+x2<=60)\n",
        "\n",
        "# Using the solver\n",
        "\n",
        "optm = SolverFactory('glpk')\n",
        "results = optm.solve(model)\n",
        "\n",
        "# Print the results\n",
        "\n",
        "print(results)\n",
        "print('Objective function: ', model.Obj())\n",
        "print('x1: ', model.x1())\n",
        "print('x2: ', x2())"
      ],
      "metadata": {
        "colab": {
          "base_uri": "https://localhost:8080/"
        },
        "id": "bnRoCv0Q7IlW",
        "outputId": "e20ee38d-51a3-4589-93b8-906581a53d97"
      },
      "execution_count": 6,
      "outputs": [
        {
          "output_type": "stream",
          "name": "stdout",
          "text": [
            "\n",
            "Problem: \n",
            "- Name: unknown\n",
            "  Lower bound: 140.0\n",
            "  Upper bound: 140.0\n",
            "  Number of objectives: 1\n",
            "  Number of constraints: 3\n",
            "  Number of variables: 3\n",
            "  Number of nonzeros: 5\n",
            "  Sense: maximize\n",
            "Solver: \n",
            "- Status: ok\n",
            "  Termination condition: optimal\n",
            "  Statistics: \n",
            "    Branch and bound: \n",
            "      Number of bounded subproblems: 0\n",
            "      Number of created subproblems: 0\n",
            "  Error rc: 0\n",
            "  Time: 0.01851677894592285\n",
            "Solution: \n",
            "- number of solutions: 0\n",
            "  number of solutions displayed: 0\n",
            "\n",
            "Objective function:  140.0\n",
            "x1:  20.0\n",
            "x2:  20.0\n"
          ]
        }
      ]
    },
    {
      "cell_type": "code",
      "source": [
        ""
      ],
      "metadata": {
        "id": "7ov5LA7uAIS_"
      },
      "execution_count": null,
      "outputs": []
    },
    {
      "cell_type": "markdown",
      "source": [
        "## Problem Formulation 2\n",
        "\n",
        "- Furniture Company manufactures desks, tables and chairs.\n",
        "- 48 board feet of lumber, 20 finishing hours and 8 carpentry hours are available.\n",
        "- A desk sells for \\$60, table \\$30, and chair \\$20.\n",
        "- Company believes that demands for desks and chairs are unlimited, but only 5 tables can be sold.\n",
        "- Because the available resources are already been purchased, company wants to maximize the profit.\n",
        "\n",
        "- Amount of resources needed to make each type of resources:\n",
        "- lumber -> for desk 8, table 6, chair 1\n",
        "- finishing hours -> desk 4, table 2, chair 1.5\n",
        "- carpentry hours -> desk 2, table 1.5, chair 0.5"
      ],
      "metadata": {
        "id": "WafwrMV7BBHz"
      }
    },
    {
      "cell_type": "markdown",
      "source": [
        "### Model Development 2\n",
        "\n",
        "- x1 = Number of desks produced\n",
        "- x2 = Number of tables produced\n",
        "- x3 = Number of chairs produced\n",
        "\n",
        "- Objective Function - 60*x1 + 30*x2 + 20*x3 - Maximize this function\n",
        "\n",
        "- Constraints -> \n",
        "  - 8*x1 + 6*x2 + x3 <= 48\n",
        "  - 4*x1 + 2*x2 + 1.5*x3 <= 20\n",
        "  - 2*x1 + 1.5*x2 + 0.5*x3 <= 8\n",
        "  - x2 <= 5 (Maximum 5 tables can be sold)"
      ],
      "metadata": {
        "id": "MPYnOHiMCy_I"
      }
    },
    {
      "cell_type": "code",
      "source": [
        ""
      ],
      "metadata": {
        "id": "63jL8Is9CxgW"
      },
      "execution_count": null,
      "outputs": []
    }
  ]
}